{
  "nbformat": 4,
  "nbformat_minor": 0,
  "metadata": {
    "colab": {
      "provenance": [],
      "include_colab_link": true
    },
    "kernelspec": {
      "name": "python3",
      "display_name": "Python 3"
    },
    "language_info": {
      "name": "python"
    }
  },
  "cells": [
    {
      "cell_type": "markdown",
      "metadata": {
        "id": "view-in-github",
        "colab_type": "text"
      },
      "source": [
        "<a href=\"https://colab.research.google.com/github/sid-betalol/AmEx-Credit-Card-Default-Prediction/blob/main/notebooks/N00_Data_Preprocessing.ipynb\" target=\"_parent\"><img src=\"https://colab.research.google.com/assets/colab-badge.svg\" alt=\"Open In Colab\"/></a>"
      ]
    },
    {
      "cell_type": "markdown",
      "source": [
        "Imports and Installations"
      ],
      "metadata": {
        "id": "kMFcnlZnLiG3"
      }
    },
    {
      "cell_type": "code",
      "source": [
        "!pip install rdkit\n",
        "!pip install pypdb"
      ],
      "metadata": {
        "colab": {
          "base_uri": "https://localhost:8080/"
        },
        "id": "LM81Fc0cLJXi",
        "outputId": "d44b5bc2-7277-4bca-91c3-ec16cd3b91b8"
      },
      "execution_count": null,
      "outputs": [
        {
          "output_type": "stream",
          "name": "stdout",
          "text": [
            "Looking in indexes: https://pypi.org/simple, https://us-python.pkg.dev/colab-wheels/public/simple/\n",
            "Collecting rdkit\n",
            "  Downloading rdkit-2023.3.1-cp310-cp310-manylinux_2_17_x86_64.manylinux2014_x86_64.whl (29.7 MB)\n",
            "\u001b[2K     \u001b[90m━━━━━━━━━━━━━━━━━━━━━━━━━━━━━━━━━━━━━━━━\u001b[0m \u001b[32m29.7/29.7 MB\u001b[0m \u001b[31m44.1 MB/s\u001b[0m eta \u001b[36m0:00:00\u001b[0m\n",
            "\u001b[?25hRequirement already satisfied: numpy in /usr/local/lib/python3.10/dist-packages (from rdkit) (1.22.4)\n",
            "Requirement already satisfied: Pillow in /usr/local/lib/python3.10/dist-packages (from rdkit) (8.4.0)\n",
            "Installing collected packages: rdkit\n",
            "Successfully installed rdkit-2023.3.1\n",
            "Looking in indexes: https://pypi.org/simple, https://us-python.pkg.dev/colab-wheels/public/simple/\n",
            "Collecting pypdb\n",
            "  Downloading pypdb-2.2-py3-none-any.whl (34 kB)\n",
            "Requirement already satisfied: requests in /usr/local/lib/python3.10/dist-packages (from pypdb) (2.27.1)\n",
            "Requirement already satisfied: urllib3<1.27,>=1.21.1 in /usr/local/lib/python3.10/dist-packages (from requests->pypdb) (1.26.15)\n",
            "Requirement already satisfied: certifi>=2017.4.17 in /usr/local/lib/python3.10/dist-packages (from requests->pypdb) (2022.12.7)\n",
            "Requirement already satisfied: charset-normalizer~=2.0.0 in /usr/local/lib/python3.10/dist-packages (from requests->pypdb) (2.0.12)\n",
            "Requirement already satisfied: idna<4,>=2.5 in /usr/local/lib/python3.10/dist-packages (from requests->pypdb) (3.4)\n",
            "Installing collected packages: pypdb\n",
            "Successfully installed pypdb-2.2\n"
          ]
        }
      ]
    },
    {
      "cell_type": "code",
      "execution_count": null,
      "metadata": {
        "id": "bVfHQXOqK6b6"
      },
      "outputs": [],
      "source": [
        "from rdkit import Chem\n",
        "from rdkit import DataStructs\n",
        "from rdkit.Chem import AllChem\n",
        "from rdkit.Chem import MACCSkeys\n",
        "from rdkit.Chem.AtomPairs import Pairs\n",
        "from rdkit.Chem.AtomPairs import Torsions\n",
        "from rdkit.Chem.Fingerprints import FingerprintMols"
      ]
    },
    {
      "cell_type": "code",
      "source": [
        "import os\n",
        "import sys\n",
        "import os.path\n",
        "from sys import platform\n",
        "from pathlib import Path"
      ],
      "metadata": {
        "id": "GRGaKqbgLHF-"
      },
      "execution_count": null,
      "outputs": []
    },
    {
      "cell_type": "code",
      "source": [
        "import ast\n",
        "import copy\n",
        "import time\n",
        "import scipy\n",
        "import random\n",
        "import pickle\n",
        "import scipy.io\n",
        "import argparse\n",
        "import subprocess\n",
        "import numpy as np\n",
        "import pandas as pd"
      ],
      "metadata": {
        "id": "izmRvbDnLSvt"
      },
      "execution_count": null,
      "outputs": []
    },
    {
      "cell_type": "code",
      "source": [
        "from numpy import *\n",
        "from tqdm import tqdm\n",
        "from pathlib import Path\n",
        "from random import shuffle"
      ],
      "metadata": {
        "id": "Qj97M-gnLXQ7"
      },
      "execution_count": null,
      "outputs": []
    },
    {
      "cell_type": "code",
      "source": [
        "from pypdb import *"
      ],
      "metadata": {
        "id": "omPG2EHaLZX3"
      },
      "execution_count": null,
      "outputs": []
    },
    {
      "cell_type": "markdown",
      "source": [
        "Dataframe"
      ],
      "metadata": {
        "id": "hfoz4yRrLsv4"
      }
    },
    {
      "cell_type": "code",
      "source": [
        "def beautiful_print(df):\n",
        "    # Print the dataset in a well-organized format.\n",
        "    with pd.option_context('display.max_rows', 20,\n",
        "                           'display.min_rows', 20,\n",
        "                           'display.max_columns', 6,\n",
        "                           #\"display.max_colwidth\", None,\n",
        "                           \"display.width\", None,\n",
        "                           \"expand_frame_repr\", True,\n",
        "                           \"max_seq_items\", None,):  # more options can be specified\n",
        "        # Once the display.max_rows is exceeded,\n",
        "        # the display.min_rows options determines\n",
        "        # how many rows are shown in the truncated repr.\n",
        "        print(df)\n",
        "    return"
      ],
      "metadata": {
        "colab": {
          "base_uri": "https://localhost:8080/"
        },
        "id": "2hJyhzp0Lbos",
        "outputId": "c08c6d09-dc63-4ee5-8ebb-988f0db747bc"
      },
      "execution_count": null,
      "outputs": [
        {
          "output_type": "stream",
          "name": "stderr",
          "text": [
            "/usr/local/lib/python3.10/dist-packages/ipykernel/ipkernel.py:283: DeprecationWarning: `should_run_async` will not call `transform_cell` automatically in the future. Please pass the result to `transformed_cell` argument and any exception that happen during thetransform in `preprocessing_exc_tuple` in IPython 7.17 and above.\n",
            "  and should_run_async(code)\n"
          ]
        }
      ]
    },
    {
      "cell_type": "code",
      "source": [
        "def Get_processed_data_df(data_folder, data_file, data_file_binary, binary_class_bool, y_prpty_cls_threshold, target_nme, max_seqs_len):\n",
        "    #====================================================================================================#\n",
        "    processed_data_df = pd.read_csv(data_folder / data_file, index_col=0, header=0)\n",
        "\n",
        "\n",
        "    if type(target_nme) == str:\n",
        "        processed_data_df_1 = processed_data_df.groupby('SEQ').agg(\n",
        "                                val_avg = pd.NamedAgg(column = target_nme, aggfunc = 'mean') ,\n",
        "                                val_SD  = pd.NamedAgg(column = target_nme, aggfunc = 'std' ) ,\n",
        "                                                                                            )\n",
        "        #beautiful_print(processed_data_df_1)\n",
        "        processed_data_df_1[\"val_SD\"] = processed_data_df_1[\"val_SD\"].fillna(value=0)\n",
        "        processed_data_df_1.reset_index(inplace = True)\n",
        "        processed_data_df_2 = processed_data_df_1[ np.isnan(processed_data_df_1['val_avg']) == False]\n",
        "        #beautiful_print(processed_data_df_2)\n",
        "        processed_data_df = pd.merge(processed_data_df, processed_data_df_2, on = ['SEQ'], how = 'left')\n",
        "        processed_data_df.drop(columns = [target_nme, ], inplace = True)\n",
        "        processed_data_df = processed_data_df.dropna(subset = ['val_avg'])\n",
        "        processed_data_df.rename(columns={'val_avg': target_nme}, inplace = True)\n",
        "        processed_data_df.drop_duplicates(subset = ['SEQ'], keep = 'first', inplace = True)\n",
        "        processed_data_df.reset_index(inplace = True)\n",
        "        processed_data_df = processed_data_df[['SEQ', target_nme]]\n",
        "        #beautiful_print(processed_data_df)\n",
        "\n",
        "\n",
        "\n",
        "    # Remove sequences that are too long (remove those longer than max_seqs_len)\n",
        "    processed_data_df[\"seqs_length\"] = processed_data_df.SEQ.str.len()\n",
        "    processed_data_df = processed_data_df[processed_data_df.seqs_length <= max_seqs_len]\n",
        "    processed_data_df.reset_index(drop = True, inplace = True)\n",
        "\n",
        "    #====================================================================================================#\n",
        "    # Current version doesnt support binary classifica\n",
        "    if binary_class_bool and ((data_folder / data_file_binary).exists()):\n",
        "        processed_data_df_bi = pd.read_csv(data_folder / data_file_binary, index_col=0, header=0)\n",
        "\n",
        "    else:\n",
        "        print(\"binary classification file does not exist.\")\n",
        "        processed_data_df_bi = pd.read_csv(data_folder / data_file, index_col=0, header=0)\n",
        "\n",
        "        if type(target_nme) == dict or type(target_nme) == list:\n",
        "            for one_target in target_nme:\n",
        "                processed_data_df_bi[one_target] = [1 if one_cvsn>y_prpty_cls_threshold else 0\n",
        "                                                      for one_cvsn in list(processed_data_df_bi[one_target])]\n",
        "        elif type(target_nme) == str:\n",
        "            processed_data_df_bi[target_nme] = [1 if one_cvsn>y_prpty_cls_threshold else 0\n",
        "                                                  for one_cvsn in list(processed_data_df_bi[target_nme])]\n",
        "    #--------------------------------------------------#\n",
        "    # Remove sequences that are too long (remove those longer than max_seqs_len)\n",
        "    processed_data_df_bi[\"seqs_length\"] = processed_data_df_bi.SEQ.str.len()\n",
        "    processed_data_df_bi = processed_data_df_bi[processed_data_df_bi.seqs_length <= max_seqs_len]\n",
        "    processed_data_df_bi.reset_index(drop = True, inplace = True)\n",
        "\n",
        "\n",
        "    return processed_data_df, processed_data_df_bi"
      ],
      "metadata": {
        "colab": {
          "base_uri": "https://localhost:8080/"
        },
        "id": "yPItPw_LLo3U",
        "outputId": "c6f057bb-d9a6-4728-e379-1bdeb971750d"
      },
      "execution_count": null,
      "outputs": [
        {
          "output_type": "stream",
          "name": "stderr",
          "text": [
            "/usr/local/lib/python3.10/dist-packages/ipykernel/ipkernel.py:283: DeprecationWarning: `should_run_async` will not call `transform_cell` automatically in the future. Please pass the result to `transformed_cell` argument and any exception that happen during thetransform in `preprocessing_exc_tuple` in IPython 7.17 and above.\n",
            "  and should_run_async(code)\n"
          ]
        }
      ]
    },
    {
      "cell_type": "markdown",
      "source": [
        "Write FASTA"
      ],
      "metadata": {
        "id": "tJnG0B4PMABa"
      }
    },
    {
      "cell_type": "code",
      "source": [
        "def output_fasta(processed_data_df, output_folder, output_file_0):\n",
        "    # Also get a seqs_list including all sequences\n",
        "    processed_data_df_row_num = processed_data_df.shape[0]\n",
        "    with open(output_folder / output_file_0 , 'w') as f:\n",
        "        count_x=0\n",
        "        seqs_list=[]\n",
        "        max_len = 0\n",
        "        print(\"processed_data_df_row_num: \", processed_data_df_row_num)\n",
        "        for i in range(processed_data_df_row_num):\n",
        "            one_seq = (processed_data_df.loc[i,\"SEQ\"]).replace(\"-\", \"\")\n",
        "            max_len = len(one_seq) if len(one_seq)>max_len else max_len\n",
        "            if one_seq not in seqs_list and len(one_seq)<=max_seqs_len:\n",
        "                seqs_list.append(one_seq)\n",
        "                count_x+=1\n",
        "                if len(one_seq) <= 1024-2:\n",
        "                    f.write(\">seq\"+str(count_x)+\"\\n\")\n",
        "                    f.write(one_seq.upper()+\"\\n\")\n",
        "                else:\n",
        "                    f.write(\">seq\"+str(count_x)+\"\\n\")\n",
        "                    f.write(one_seq.upper()[0 : 1024-2]+\"\\n\")\n",
        "    print(\"number of seqs: \", len(seqs_list))\n",
        "    print(\"number of seqs duplicates removed: \", len(set(seqs_list)))\n",
        "    return seqs_list"
      ],
      "metadata": {
        "colab": {
          "base_uri": "https://localhost:8080/"
        },
        "id": "5Wd1AHEkLy1A",
        "outputId": "9321fef6-8f10-4d2f-cbda-bbf5fc3150ec"
      },
      "execution_count": null,
      "outputs": [
        {
          "output_type": "stream",
          "name": "stderr",
          "text": [
            "/usr/local/lib/python3.10/dist-packages/ipykernel/ipkernel.py:283: DeprecationWarning: `should_run_async` will not call `transform_cell` automatically in the future. Please pass the result to `transformed_cell` argument and any exception that happen during thetransform in `preprocessing_exc_tuple` in IPython 7.17 and above.\n",
            "  and should_run_async(code)\n"
          ]
        }
      ]
    },
    {
      "cell_type": "markdown",
      "source": [
        "Outputs"
      ],
      "metadata": {
        "id": "3Fx9uxI7MF2W"
      }
    },
    {
      "cell_type": "code",
      "source": [
        "def output_formated_dataset(processed_data_df,\n",
        "                            processed_data_df_bi  ,\n",
        "                            seqs_list             ,\n",
        "                            y_prpty_cls_threshold ,\n",
        "                            target_nme            ,\n",
        "                            data_folder           ,\n",
        "                            output_folder         ,\n",
        "                            output_file_1         ,\n",
        "                            ):\n",
        "    #--------------------------------------------------#\n",
        "    # Initialize.\n",
        "    seq_prpty_dict = dict([])\n",
        "    #--------------------------------------------------#\n",
        "    #\n",
        "    if type(target_nme) == dict or type(target_nme) == list:\n",
        "        seq_prpty_dict[\"sequence\"] = seqs_list\n",
        "        for one_header in target_nme:\n",
        "            seq_prpty_dict[one_header] = processed_data_df[one_header]\n",
        "\n",
        "    #print(np.isnan(processed_data_df.loc[17, \"FC1\"]))\n",
        "    #print(seq_prpty_dict[\"FC1\"][18])\n",
        "\n",
        "    pickle.dump( seq_prpty_dict, open( output_folder / output_file_1, \"wb\" ) )\n",
        "\n",
        "    return seq_prpty_dict"
      ],
      "metadata": {
        "colab": {
          "base_uri": "https://localhost:8080/"
        },
        "id": "KzBgyjd3MDFd",
        "outputId": "efef659f-1ebb-4e91-e041-2a6d6ab0f353"
      },
      "execution_count": null,
      "outputs": [
        {
          "output_type": "stream",
          "name": "stderr",
          "text": [
            "/usr/local/lib/python3.10/dist-packages/ipykernel/ipkernel.py:283: DeprecationWarning: `should_run_async` will not call `transform_cell` automatically in the future. Please pass the result to `transformed_cell` argument and any exception that happen during thetransform in `preprocessing_exc_tuple` in IPython 7.17 and above.\n",
            "  and should_run_async(code)\n"
          ]
        }
      ]
    },
    {
      "cell_type": "markdown",
      "source": [
        "Data Processing"
      ],
      "metadata": {
        "id": "fOJEVL_jMR8x"
      }
    },
    {
      "cell_type": "code",
      "source": [
        "def N00_Data_Processing(binary_class_bool      ,\n",
        "                        data_folder            ,\n",
        "                        target_nme             ,\n",
        "                        data_file              ,\n",
        "                        data_file_binary       ,\n",
        "                        max_seqs_len           ,\n",
        "                        y_prpty_cls_threshold  ,\n",
        "                        output_folder          ,\n",
        "                        output_file_0          ,\n",
        "                        output_file_1          ,\n",
        "                        ):\n",
        "    # Process target_nme\n",
        "\n",
        "\n",
        "\n",
        "    # Get_processed_data_df\n",
        "    processed_data_df, processed_data_df_bi = Get_processed_data_df(data_folder           ,\n",
        "                                                                    data_file             ,\n",
        "                                                                    data_file_binary      ,\n",
        "                                                                    binary_class_bool     ,\n",
        "                                                                    y_prpty_cls_threshold ,\n",
        "                                                                    target_nme            ,\n",
        "                                                                    max_seqs_len          ,\n",
        "                                                                    )\n",
        "    beautiful_print(processed_data_df)\n",
        "    beautiful_print(processed_data_df_bi)\n",
        "\n",
        "    #--------------------------------------------------#\n",
        "    # Output #1: Write a fasta file including all sequences\n",
        "    seqs_list = output_fasta(processed_data_df, output_folder, output_file_0)\n",
        "\n",
        "    #--------------------------------------------------#\n",
        "    # Output #2: Write compounds_properties_list\n",
        "    seqs_prpty_dict = output_formated_dataset(processed_data_df     ,\n",
        "                                              processed_data_df_bi  ,\n",
        "                                              seqs_list             ,\n",
        "                                              y_prpty_cls_threshold ,\n",
        "                                              target_nme            ,\n",
        "                                              data_folder           ,\n",
        "                                              output_folder         ,\n",
        "                                              output_file_1         ,\n",
        "                                              )\n",
        "    #--------------------------------------------------#\n",
        "\n",
        "    return"
      ],
      "metadata": {
        "colab": {
          "base_uri": "https://localhost:8080/"
        },
        "id": "-cPEWar7MKeU",
        "outputId": "91b75d65-aaf4-483d-ff44-f60195e85f41"
      },
      "execution_count": null,
      "outputs": [
        {
          "output_type": "stream",
          "name": "stderr",
          "text": [
            "/usr/local/lib/python3.10/dist-packages/ipykernel/ipkernel.py:283: DeprecationWarning: `should_run_async` will not call `transform_cell` automatically in the future. Please pass the result to `transformed_cell` argument and any exception that happen during thetransform in `preprocessing_exc_tuple` in IPython 7.17 and above.\n",
            "  and should_run_async(code)\n"
          ]
        }
      ]
    },
    {
      "cell_type": "markdown",
      "source": [
        "Preprocessing the dataset"
      ],
      "metadata": {
        "id": "ubZkjlKtPgms"
      }
    },
    {
      "cell_type": "code",
      "source": [
        "Step_code = \"N00_\"\n",
        "dataset_nme = \"GFP\"\n",
        "data_info_dict = {\"GFP\": [\"quantitative_function\"  , \"./subset_gfp_10000.csv\", 1200, ]}\n",
        "target_nme   = data_info_dict[dataset_nme][0]\n",
        "data_file    = data_info_dict[dataset_nme][1]\n",
        "max_seqs_len = data_info_dict[dataset_nme][2]"
      ],
      "metadata": {
        "colab": {
          "base_uri": "https://localhost:8080/"
        },
        "id": "WZIiswCVMTdU",
        "outputId": "1cf38108-7fb8-4f80-dd75-e641b4bb8b63"
      },
      "execution_count": null,
      "outputs": [
        {
          "output_type": "stream",
          "name": "stderr",
          "text": [
            "/usr/local/lib/python3.10/dist-packages/ipykernel/ipkernel.py:283: DeprecationWarning: `should_run_async` will not call `transform_cell` automatically in the future. Please pass the result to `transformed_cell` argument and any exception that happen during thetransform in `preprocessing_exc_tuple` in IPython 7.17 and above.\n",
            "  and should_run_async(code)\n"
          ]
        }
      ]
    },
    {
      "cell_type": "code",
      "source": [
        "if target_nme in locals().keys():\n",
        "    target_nme = locals()[target_nme]\n",
        "else:\n",
        "    locals()[target_nme] = {target_nme : target_nme}\n",
        "    target_nme = locals()[target_nme]\n",
        "print(target_nme)"
      ],
      "metadata": {
        "colab": {
          "base_uri": "https://localhost:8080/"
        },
        "id": "oWDeEKslOTbD",
        "outputId": "71b7d62d-4696-4060-8c76-d2bf74c24972"
      },
      "execution_count": null,
      "outputs": [
        {
          "output_type": "stream",
          "name": "stdout",
          "text": [
            "{'quantitative_function': 'quantitative_function'}\n"
          ]
        },
        {
          "output_type": "stream",
          "name": "stderr",
          "text": [
            "/usr/local/lib/python3.10/dist-packages/ipykernel/ipkernel.py:283: DeprecationWarning: `should_run_async` will not call `transform_cell` automatically in the future. Please pass the result to `transformed_cell` argument and any exception that happen during thetransform in `preprocessing_exc_tuple` in IPython 7.17 and above.\n",
            "  and should_run_async(code)\n"
          ]
        }
      ]
    },
    {
      "cell_type": "code",
      "source": [
        "binary_class_bool = True"
      ],
      "metadata": {
        "colab": {
          "base_uri": "https://localhost:8080/"
        },
        "id": "11T81IvIQUBw",
        "outputId": "91b1a00c-8c4d-4999-a114-29f179a78e7d"
      },
      "execution_count": null,
      "outputs": [
        {
          "output_type": "stream",
          "name": "stderr",
          "text": [
            "/usr/local/lib/python3.10/dist-packages/ipykernel/ipkernel.py:283: DeprecationWarning: `should_run_async` will not call `transform_cell` automatically in the future. Please pass the result to `transformed_cell` argument and any exception that happen during thetransform in `preprocessing_exc_tuple` in IPython 7.17 and above.\n",
            "  and should_run_async(code)\n"
          ]
        }
      ]
    },
    {
      "cell_type": "code",
      "source": [
        "data_folder = Path(\"/content/GFP/\")\n",
        "data_file_binary = data_file.replace(\".csv\", \"_binary.csv\") # y_prpty_cls_threshold = around 1e-2\n",
        "y_prpty_cls_threshold = 1e-5 # Used for type II screening\n",
        "output_folder = Path(\"/content/N_DataProcessed\")\n",
        "output_file_0 = Step_code + dataset_nme + \".fasta\"\n",
        "output_file_1 = Step_code + dataset_nme + \"_seqs_prpty_list.p\""
      ],
      "metadata": {
        "colab": {
          "base_uri": "https://localhost:8080/"
        },
        "id": "IStv4Z_vQU8Q",
        "outputId": "de302d4b-db54-459e-fb2c-f037d43ae241"
      },
      "execution_count": null,
      "outputs": [
        {
          "output_type": "stream",
          "name": "stderr",
          "text": [
            "/usr/local/lib/python3.10/dist-packages/ipykernel/ipkernel.py:283: DeprecationWarning: `should_run_async` will not call `transform_cell` automatically in the future. Please pass the result to `transformed_cell` argument and any exception that happen during thetransform in `preprocessing_exc_tuple` in IPython 7.17 and above.\n",
            "  and should_run_async(code)\n"
          ]
        }
      ]
    },
    {
      "cell_type": "markdown",
      "source": [
        "Preprocessing call"
      ],
      "metadata": {
        "id": "o8Io9O6RRqE4"
      }
    },
    {
      "cell_type": "code",
      "source": [
        "N00_Data_Processing(binary_class_bool, data_folder, target_nme, data_file, data_file_binary, max_seqs_len, y_prpty_cls_threshold, output_folder, output_file_0, output_file_1)\n",
        "print(\"*\" * 50)\n",
        "print(Step_code + \" Done!\")"
      ],
      "metadata": {
        "colab": {
          "base_uri": "https://localhost:8080/"
        },
        "id": "lTB-hEceRpOW",
        "outputId": "edc8dd4d-ace5-4c70-a286-3fe5a41dc788"
      },
      "execution_count": null,
      "outputs": [
        {
          "output_type": "stream",
          "name": "stderr",
          "text": [
            "/usr/local/lib/python3.10/dist-packages/ipykernel/ipkernel.py:283: DeprecationWarning: `should_run_async` will not call `transform_cell` automatically in the future. Please pass the result to `transformed_cell` argument and any exception that happen during thetransform in `preprocessing_exc_tuple` in IPython 7.17 and above.\n",
            "  and should_run_async(code)\n"
          ]
        },
        {
          "output_type": "stream",
          "name": "stdout",
          "text": [
            "binary classification file does not exist.\n",
            "                                                    SEQ  \\\n",
            "0     MSKGEELFTGVVPILVELDGDVNGHKFSVSGEGEGDATYGKLTLKF...   \n",
            "1     MSKGEELFTGVVPILVELDGDVNGHKFSVSGEGEGDATYGKLTLKF...   \n",
            "2     MSKGEELFTGVVPILVELDGDVNGHKFSVSGEGEGDATYGKLTLKF...   \n",
            "3     MSKGEELFTGVVLILVEPDGDVNGHKFSVSGEGEGDATYGKLTLKF...   \n",
            "4     MSKGEELFTGVVSIPVELDGDVNGHKFSVSGEGEGDATYGKLTLKF...   \n",
            "5     MSKGEELLTGVVPILVELDGDVNGHKFSVSGEGEGDATYGKLTLKF...   \n",
            "6     MSKGEELFTGVVPILVELDGDVNGHKFSVSGEGEGDATYGKLTLKF...   \n",
            "7     MSKGEELFTGVVPILVELDGDVNGHKFSVSGVGEGDATNGKLTLKF...   \n",
            "8     MSKGEELFTGVVPILVELDGDVNGHKFSVSGEGEGDATYGKLTLKF...   \n",
            "9     MSKGEELFTGVVPILVELDGDVNGHKFSVSGEGEGDATYGKLTLKF...   \n",
            "...                                                 ...   \n",
            "9990  MSKGEELFTGVVPILVELDGDVNGHKFSVSGEGEGDATYGKLTLKF...   \n",
            "9991  MSKGEELFTGVVPILVELDGDVNGHKLSVSGEGEGDATYGKLTLKF...   \n",
            "9992  MSKGEELFTGVVPILVELDGDVNGHKFSVSGEGEGDATYGKLTLKF...   \n",
            "9993  MSKGEELFTGVVPILVELDGDVNGHKFSVSGEGEGDATYGKLTLKF...   \n",
            "9994  MSKGEGLFTGVVPILVELDGDVNGHKFSVSGEGEGDATYGKLTLKF...   \n",
            "9995  MSEGEELFTGVVPILVELDGDVNGHKFSVSGEGEGDATYGKLTLKF...   \n",
            "9996  MSKGEELFTGVVPILVELDGDVNGHKFSVSGEGEGDATYGKLTLKF...   \n",
            "9997  MSRGEELFTGVVPILVELDGDVNGHKFSVSGEGEGDATYGKLTLKF...   \n",
            "9998  MSKGEELFTGVVPILVELDGDVNGHKFGVSGEGEGDATYGKLTLKF...   \n",
            "9999  MSKGEELFTGVVPILVELDGDVNGHKFSVSGEGEGDATYGKLTLKF...   \n",
            "\n",
            "      quantitative_function  seqs_length  \n",
            "0                  1.005490          238  \n",
            "1                  0.037151          238  \n",
            "2                  0.946706          238  \n",
            "3                  0.131230          238  \n",
            "4                  0.132367          238  \n",
            "5                  0.929740          238  \n",
            "6                  0.007230          238  \n",
            "7                  0.007230          238  \n",
            "8                  0.914499          238  \n",
            "9                  0.811209          238  \n",
            "...                     ...          ...  \n",
            "9990               0.008936          238  \n",
            "9991               0.059500          238  \n",
            "9992               0.906599          238  \n",
            "9993               0.007230          238  \n",
            "9994               0.152839          238  \n",
            "9995               0.852665          238  \n",
            "9996               0.888222          238  \n",
            "9997               0.923587          238  \n",
            "9998               0.922858          238  \n",
            "9999               0.227995          238  \n",
            "\n",
            "[10000 rows x 3 columns]\n",
            "                                                    SEQ  \\\n",
            "0     MSKGEELFTGVVPILVELDGDVNGHKFSVSGEGEGDATYGKLTLKF...   \n",
            "1     MSKGEELFTGVVPILVELDGDVNGHKFSVSGEGEGDATYGKLTLKF...   \n",
            "2     MSKGEELFTGVVPILVELDGDVNGHKFSVSGEGEGDATYGKLTLKF...   \n",
            "3     MSKGEELFTGVVLILVEPDGDVNGHKFSVSGEGEGDATYGKLTLKF...   \n",
            "4     MSKGEELFTGVVSIPVELDGDVNGHKFSVSGEGEGDATYGKLTLKF...   \n",
            "5     MSKGEELLTGVVPILVELDGDVNGHKFSVSGEGEGDATYGKLTLKF...   \n",
            "6     MSKGEELFTGVVPILVELDGDVNGHKFSVSGEGEGDATYGKLTLKF...   \n",
            "7     MSKGEELFTGVVPILVELDGDVNGHKFSVSGVGEGDATNGKLTLKF...   \n",
            "8     MSKGEELFTGVVPILVELDGDVNGHKFSVSGEGEGDATYGKLTLKF...   \n",
            "9     MSKGEELFTGVVPILVELDGDVNGHKFSVSGEGEGDATYGKLTLKF...   \n",
            "...                                                 ...   \n",
            "9990  MSKGEELFTGVVPILVELDGDVNGHKFSVSGEGEGDATYGKLTLKF...   \n",
            "9991  MSKGEELFTGVVPILVELDGDVNGHKLSVSGEGEGDATYGKLTLKF...   \n",
            "9992  MSKGEELFTGVVPILVELDGDVNGHKFSVSGEGEGDATYGKLTLKF...   \n",
            "9993  MSKGEELFTGVVPILVELDGDVNGHKFSVSGEGEGDATYGKLTLKF...   \n",
            "9994  MSKGEGLFTGVVPILVELDGDVNGHKFSVSGEGEGDATYGKLTLKF...   \n",
            "9995  MSEGEELFTGVVPILVELDGDVNGHKFSVSGEGEGDATYGKLTLKF...   \n",
            "9996  MSKGEELFTGVVPILVELDGDVNGHKFSVSGEGEGDATYGKLTLKF...   \n",
            "9997  MSRGEELFTGVVPILVELDGDVNGHKFSVSGEGEGDATYGKLTLKF...   \n",
            "9998  MSKGEELFTGVVPILVELDGDVNGHKFGVSGEGEGDATYGKLTLKF...   \n",
            "9999  MSKGEELFTGVVPILVELDGDVNGHKFSVSGEGEGDATYGKLTLKF...   \n",
            "\n",
            "      quantitative_function  seqs_length  \n",
            "0                         1          238  \n",
            "1                         1          238  \n",
            "2                         1          238  \n",
            "3                         1          238  \n",
            "4                         1          238  \n",
            "5                         1          238  \n",
            "6                         1          238  \n",
            "7                         1          238  \n",
            "8                         1          238  \n",
            "9                         1          238  \n",
            "...                     ...          ...  \n",
            "9990                      1          238  \n",
            "9991                      1          238  \n",
            "9992                      1          238  \n",
            "9993                      1          238  \n",
            "9994                      1          238  \n",
            "9995                      1          238  \n",
            "9996                      1          238  \n",
            "9997                      1          238  \n",
            "9998                      1          238  \n",
            "9999                      1          238  \n",
            "\n",
            "[10000 rows x 3 columns]\n",
            "processed_data_df_row_num:  10000\n",
            "number of seqs:  10000\n",
            "number of seqs duplicates removed:  10000\n",
            "**************************************************\n",
            "N00_ Done!\n"
          ]
        }
      ]
    },
    {
      "cell_type": "code",
      "source": [],
      "metadata": {
        "id": "WlYZqUtUYgIf"
      },
      "execution_count": null,
      "outputs": []
    }
  ]
}